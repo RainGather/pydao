{
 "cells": [
  {
   "cell_type": "markdown",
   "id": "56d0fafb-fbf8-4191-a714-130f4ffcde2d",
   "metadata": {},
   "source": [
    "# 进制\n",
    "\n",
    "## 二进制转十进制\n",
    "\n",
    "二进制： 1001\n",
    "\n",
    "十进制： $ 1 *  2 ^ 3 + 0 * 2 ^ 2 + 0 * 2 ^ 1 + 1 * 2 ^ 0 = 9 $\n",
    "\n",
    "## 十进制转二进制\n",
    "\n",
    "十进制： 23\n",
    "\n",
    "$$\n",
    "23 \\div 2 = 11 \\cdots \\cdots 1 \\\\\n",
    "11 \\div 2 = 5 \\cdots \\cdots 1 \\\\\n",
    "5 \\div 2 = 2 \\cdots \\cdots 1 \\\\\n",
    "2 \\div 2 = 1 \\cdots \\cdots 0 \\\\\n",
    "1 \\div 2 = 0 \\cdots \\cdots 1 \\\\\n",
    "$$\n",
    "二进制： 10111\n",
    "\n",
    "## 十六进制转十进制\n",
    "\n",
    "十六进制： A5\n",
    "\n",
    "十进制： $ A *  16 ^ 1 + 5 * 2 ^ 0 = 165 $\n",
    "\n",
    "## 十进制转十六进制\n",
    "\n",
    "十进制： 57\n",
    "\n",
    "$$\n",
    "57 \\div 16 = 3 \\cdots \\cdots 9 \\\\\n",
    "3 \\div 16 = 0 \\cdots \\cdots 3 \\\\\n",
    "$$\n",
    "十六进制： 39\n",
    "\n",
    "## n进制转m进制\n",
    "\n",
    "n进制： abcd\n",
    "\n",
    "n转十进制：$ a * n ^ 3 + b * n ^ 2 + c * n ^ 1 + d * n ^ 0 = z $\n",
    "\n",
    "十进制转m进制： \n",
    "$$\n",
    "z \\div m = r1 \\cdots \\cdots y1 \\\\\n",
    "r1 \\div m = r2 \\cdots \\cdots y2 \\\\\n",
    "\\cdots \\cdots \\\\\n",
    "r(w-1) \\div m = rw \\cdots \\cdots yw \\\\\n",
    "m进制结果： yw y(w-1) y(w-2) \\cdots \\cdots y2 y1\n",
    "$$\n",
    "\n",
    "## 二进制快速转十六进制\n",
    "\n",
    "因为：\n",
    "\n",
    "$ (1111)_{2} = (15)_{10} = (F)_{16} $\n",
    "\n",
    "所以二进制和十六进制分别可以认为4位对1位，快速可以转换，例如：\n",
    "\n",
    "$ (1010)_{2} = (10)_{10} = (A)_{16} $\n",
    "\n",
    "那么二进制：10111010，可以拆分为1011 1010，其中：\n",
    "\n",
    "$$\n",
    "(1011)_{2} = (11)_{10} = (B)_{16} \\\\\n",
    "(1010)_{2} = (10)_{10} = (A)_{16}\n",
    "$$\n",
    "\n",
    "所以十六进制的10111010为：BA\n",
    "\n",
    "## 十六进制快速转二进制\n",
    "\n",
    "十六进制：B5\n",
    "\n",
    "拆分为：B 5\n",
    "\n",
    "$$\n",
    "(B)_{16} = (11)_{10} = (1011)_{2} \\\\\n",
    "(5)_{16} = (5)_{10} = (0101)_{2} \\\\\n",
    "$$\n",
    "\n",
    "所以二进制为：10110101"
   ]
  },
  {
   "cell_type": "markdown",
   "id": "ad7ddbd1-9aae-46e0-8cd1-08886898a5c7",
   "metadata": {},
   "source": [
    "# 【小作业】进制\n",
    "\n",
    "请将下列10进制转换成2进制：\n",
    "\n",
    "- 10\n",
    "- 100\n",
    "- 113\n",
    "- 147\n",
    "- 255\n",
    "\n",
    "请将下列2进制转换成10进制：\n",
    "\n",
    "- 10\n",
    "- 100\n",
    "- 101011\n",
    "- 01001000\n",
    "- 10011001\n",
    "\n",
    "\n",
    "请将下列2进制转换成16进制：\n",
    "\n",
    "- 10011001\n",
    "- 11010001\n",
    "- 11101\n",
    "- 101101\n",
    "\n",
    "请将下列16进制转换成2进制：\n",
    "\n",
    "- AB\n",
    "- C5\n",
    "- D3F6"
   ]
  },
  {
   "cell_type": "markdown",
   "id": "05f01fa3-030c-4b37-8f22-44e4af27bd8f",
   "metadata": {},
   "source": [
    "# 上机\n",
    "\n",
    "## 硬币编码数字\n",
    "\n",
    "可以将数字用硬币的正反来表示\n",
    "\n",
    "直接运行编码程序："
   ]
  },
  {
   "cell_type": "code",
   "execution_count": 1,
   "id": "c7124dea-4581-4e36-9801-73df7b650024",
   "metadata": {},
   "outputs": [
    {
     "name": "stdout",
     "output_type": "stream",
     "text": [
      "正反正反正反\n"
     ]
    },
    {
     "data": {
      "text/plain": [
       "'正反正反正反'"
      ]
     },
     "execution_count": 1,
     "metadata": {},
     "output_type": "execute_result"
    }
   ],
   "source": [
    "from code import encode\n",
    "\n",
    "# 可将123改为其它数字\n",
    "encode(42)"
   ]
  },
  {
   "cell_type": "markdown",
   "id": "560447e9-0fe5-459d-b74d-5b2e41d6427c",
   "metadata": {},
   "source": [
    "运行解码程序："
   ]
  },
  {
   "cell_type": "code",
   "execution_count": 2,
   "id": "4e6bbecd-6800-42e1-9efa-b30f946bb9a6",
   "metadata": {},
   "outputs": [
    {
     "name": "stdout",
     "output_type": "stream",
     "text": [
      "42\n"
     ]
    },
    {
     "data": {
      "text/plain": [
       "42"
      ]
     },
     "execution_count": 2,
     "metadata": {},
     "output_type": "execute_result"
    }
   ],
   "source": [
    "from code import decode\n",
    "\n",
    "decode('正反正反正反')"
   ]
  },
  {
   "cell_type": "code",
   "execution_count": null,
   "id": "b7ee8ed2-aa9a-4727-9688-7603413ac9e5",
   "metadata": {},
   "outputs": [],
   "source": []
  }
 ],
 "metadata": {
  "kernelspec": {
   "display_name": "Python 3",
   "language": "python",
   "name": "python3"
  },
  "language_info": {
   "codemirror_mode": {
    "name": "ipython",
    "version": 3
   },
   "file_extension": ".py",
   "mimetype": "text/x-python",
   "name": "python",
   "nbconvert_exporter": "python",
   "pygments_lexer": "ipython3",
   "version": "3.8.8"
  }
 },
 "nbformat": 4,
 "nbformat_minor": 5
}
