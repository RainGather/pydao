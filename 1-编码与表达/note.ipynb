{
 "cells": [
  {
   "cell_type": "markdown",
   "id": "b24c7e08-52f5-41da-9aac-c19d207883ab",
   "metadata": {},
   "source": [
    "# 编码与表达"
   ]
  },
  {
   "cell_type": "markdown",
   "id": "2ecaaec1-a159-4756-8170-e40b5619964b",
   "metadata": {},
   "source": [
    "| ASCII值 | 控制字符 | ASCII值 | 控制字符 | ASCII值 | 控制字符 | ASCII值 | 控制字符 |\n",
    "| :------ | :------- | :------ | :------- | :------ | :------- | :------ | :------- |\n",
    "| 0       | NUT      | 32      | (space)  | 64      | @        | 96      | 、       |\n",
    "| 1       | SOH      | 33      | !        | 65      | A        | 97      | a        |\n",
    "| 2       | STX      | 34      | \"        | 66      | B        | 98      | b        |\n",
    "| 3       | ETX      | 35      | #        | 67      | C        | 99      | c        |\n",
    "| 4       | EOT      | 36      | $        | 68      | D        | 100     | d        |\n",
    "| 5       | ENQ      | 37      | %        | 69      | E        | 101     | e        |\n",
    "| 6       | ACK      | 38      | &        | 70      | F        | 102     | f        |\n",
    "| 7       | BEL      | 39      | ,        | 71      | G        | 103     | g        |\n",
    "| 8       | BS       | 40      | (        | 72      | H        | 104     | h        |\n",
    "| 9       | HT       | 41      | )        | 73      | I        | 105     | i        |\n",
    "| 10      | LF       | 42      | *        | 74      | J        | 106     | j        |\n",
    "| 11      | VT       | 43      | +        | 75      | K        | 107     | k        |\n",
    "| 12      | FF       | 44      | ,        | 76      | L        | 108     | l        |\n",
    "| 13      | CR       | 45      | -        | 77      | M        | 109     | m        |\n",
    "| 14      | SO       | 46      | .        | 78      | N        | 110     | n        |\n",
    "| 15      | SI       | 47      | /        | 79      | O        | 111     | o        |\n",
    "| 16      | DLE      | 48      | 0        | 80      | P        | 112     | p        |\n",
    "| 17      | DCI      | 49      | 1        | 81      | Q        | 113     | q        |\n",
    "| 18      | DC2      | 50      | 2        | 82      | R        | 114     | r        |\n",
    "| 19      | DC3      | 51      | 3        | 83      | S        | 115     | s        |\n",
    "| 20      | DC4      | 52      | 4        | 84      | T        | 116     | t        |\n",
    "| 21      | NAK      | 53      | 5        | 85      | U        | 117     | u        |\n",
    "| 22      | SYN      | 54      | 6        | 86      | V        | 118     | v        |\n",
    "| 23      | TB       | 55      | 7        | 87      | W        | 119     | w        |\n",
    "| 24      | CAN      | 56      | 8        | 88      | X        | 120     | x        |\n",
    "| 25      | EM       | 57      | 9        | 89      | Y        | 121     | y        |\n",
    "| 26      | SUB      | 58      | :        | 90      | Z        | 122     | z        |\n",
    "| 27      | ESC      | 59      | ;        | 91      | [        | 123     | {        |\n",
    "| 28      | FS       | 60      | <        | 92      | /        | 124     | \\|       |\n",
    "| 29      | GS       | 61      | =        | 93      | ]        | 125     | }        |\n",
    "| 30      | RS       | 62      | >        | 94      | ^        | 126     | `        |\n",
    "| 31      | US       | 63      | ?        | 95      | _        | 127     | DEL      |"
   ]
  },
  {
   "cell_type": "markdown",
   "id": "6c566173-9016-4a80-9f89-ed0cfbef3392",
   "metadata": {},
   "source": [
    "## 特殊字符解释\n",
    "\n",
    "| NUL空        | VT 垂直制表   | SYN 空转同步  |\n",
    "| ------------ | ------------- | ------------- |\n",
    "| STX 正文开始 | CR 回车       | CAN 作废      |\n",
    "| ETX 正文结束 | SO 移位输出   | EM 纸尽       |\n",
    "| EOY 传输结束 | SI 移位输入   | SUB 换置      |\n",
    "| ENQ 询问字符 | DLE 空格      | ESC 换码      |\n",
    "| ACK 承认     | DC1 设备控制1 | FS 文字分隔符 |\n",
    "| BEL 报警     | DC2 设备控制2 | GS 组分隔符   |\n",
    "| BS 退一格    | DC3 设备控制3 | RS 记录分隔符 |\n",
    "| HT 横向列表  | DC4 设备控制4 | US 单元分隔符 |\n",
    "| LF 换行      | NAK 否定      | DEL 删除      |\n",
    "\n",
    "\n",
    "## 核心记忆\n",
    "| 字符 | 十进制 | 十六进制 |\n",
    "| ---- | ----- | -------- |\n",
    "| 0 | 48 | 0x30 |\n",
    "| 1 | 48 | 0x31 |\n",
    "| A | 65 | 0x41 |\n",
    "| a | 97 | 0x61 |\n",
    "\n",
    "\n",
    "#### 记忆口诀\n",
    "\n",
    "```\n",
    "1 A a\n",
    "3 4 6\n",
    "```"
   ]
  },
  {
   "cell_type": "markdown",
   "id": "718dcae8-7494-4c2b-9893-6c5bad1a5a2b",
   "metadata": {},
   "source": [
    "## 容量\n",
    "\n",
    "1bit(位): 1位二进制数，范围0-1，例如：0b0、0b1\n",
    "\n",
    "1Byte(字节): 8位二进制数，或者2位16进制数，范围0-255，足够保存一个ASCII字符，例如：0x41、0b00100010\n",
    "\n",
    "- 1Byte=8bit\n",
    "- 1KB = 1024Byte\n",
    "- 1MB = 1024KB\n",
    "- 1GB = 1024MB\n",
    "- 1TB = 1024GB\n",
    "- 1ZB = 1024TB\n",
    "\n",
    "#### 大B与小b\n",
    "\n",
    "在容量单位中，大写的B一般表示Byte，小写的b一般表示bit。\n",
    "\n",
    "所以，1B = 8bit, 1KB = 8Kb, 1MB = 8Mb。\n",
    "\n",
    "很多网络服务商喜欢用小b的单位，这样显得网速就很快，例如所谓的百兆宽带，指的是100Mbps，即100Mb/s的意思，换算成大B就是12.5MB/s，加上网络环境的不稳定和下载服务器的带宽限制等，基本上就最高只能达到10MB/s左右。\n"
   ]
  },
  {
   "cell_type": "markdown",
   "id": "8873042b-11f1-494b-96d1-7fc9aa19981e",
   "metadata": {},
   "source": [
    "## 从十六进制编码判断是否英文\n",
    "\n",
    "#### 非英文（考试中大概率是中文）\n",
    "\n",
    "$$\n",
    "\\geq (80)_{16}\n",
    "$$\n",
    "\n",
    "#### 英文\n",
    "\n",
    "$$\n",
    "< (80)_{16}\n",
    "$$\n",
    "\n",
    "ASCII范围：0-127(0x00-0x7F)\n",
    "\n",
    "所以128（0x80）以上的就不算ASCII英文字符\n",
    "\n",
    "注意，考试中非英文一般是中文，一般有两个字节。\n",
    "\n",
    "例如：\n",
    "\n",
    "| C | h | i | n | a | 中 | 国 |\n",
    "| - | - | - | - | - | - | - |\n",
    "| 43 | 68 | 69 | 6E | 61 | D6 D0 | B9 FA |"
   ]
  },
  {
   "cell_type": "markdown",
   "id": "6ffd6410-da50-4d1e-9a74-d2e0b77ce3c2",
   "metadata": {
    "tags": []
   },
   "source": [
    "# 【小作业】编码与表达\n",
    "\n",
    "请将下列字符串转换成ASCII码表达：\n",
    "\n",
    "- Nice\n",
    "- G20\n",
    "- 5D2\n",
    "\n",
    "请将下列数字按ASCII表转换成对应的字符串：\n",
    "\n",
    "- 65 66 67\n",
    "- 72 101 108 108 111 87 111 114 108 100 \n",
    "\n",
    "推测下列hex编码中是否可能存在中文：\n",
    "\n",
    "- 48 65 6C 6C 6F 21 CA C0 BD E7 A3 A1\n",
    "- 57 65 6C 63 6F 6D 65 21\n",
    "- 61 E8 BF 99\n",
    "\n",
    "下列数据需要多大的存储空间来保存？(数字类型直接保存为二进制，英文编码为ASCII，中文编码为GBK)\n",
    "\n",
    "- 0b01001000\n",
    "- 1023\n",
    "- 学校\n",
    "- school\n",
    "- 0xFFFF\n",
    "- 256"
   ]
  },
  {
   "cell_type": "markdown",
   "id": "efe8b11e-5b23-41e3-a34f-8ae47ef43a98",
   "metadata": {},
   "source": [
    "# 上机\n",
    "\n",
    "## 硬币编码文字\n",
    "\n",
    "可以将文字编码成硬币正反面表示："
   ]
  },
  {
   "cell_type": "code",
   "execution_count": 1,
   "id": "1b9d4670-164d-443d-a3ab-bdbdd68f52d4",
   "metadata": {},
   "outputs": [
    {
     "name": "stdout",
     "output_type": "stream",
     "text": [
      "反反反反反反反反反正反反正正正正反正正反反反反反反反反反反反反反反正反正正反反正反正正正正正反正\n"
     ]
    },
    {
     "data": {
      "text/plain": [
       "'反反反反反反反反反正反反正正正正反正正反反反反反反反反反反反反反反正反正正反反正反正正正正正反正'"
      ]
     },
     "execution_count": 1,
     "metadata": {},
     "output_type": "execute_result"
    }
   ],
   "source": [
    "from code import encode\n",
    "\n",
    "# 可以将你好换成其它内容\n",
    "encode('你好')"
   ]
  },
  {
   "cell_type": "code",
   "execution_count": 2,
   "id": "dcfc6482-5f25-46f8-8025-d680137dce8a",
   "metadata": {},
   "outputs": [
    {
     "name": "stdout",
     "output_type": "stream",
     "text": [
      "你好\n"
     ]
    },
    {
     "data": {
      "text/plain": [
       "'你好'"
      ]
     },
     "execution_count": 2,
     "metadata": {},
     "output_type": "execute_result"
    }
   ],
   "source": [
    "from code import decode\n",
    "\n",
    "decode('反反反反反反反反反正反反正正正正反正正反反反反反反反反反反反反反反正反正正反反正反正正正正正反正')"
   ]
  },
  {
   "cell_type": "code",
   "execution_count": null,
   "id": "0a81f1cd-f8fc-4a64-8756-440e83236760",
   "metadata": {},
   "outputs": [],
   "source": []
  }
 ],
 "metadata": {
  "kernelspec": {
   "display_name": "Python 3",
   "language": "python",
   "name": "python3"
  },
  "language_info": {
   "codemirror_mode": {
    "name": "ipython",
    "version": 3
   },
   "file_extension": ".py",
   "mimetype": "text/x-python",
   "name": "python",
   "nbconvert_exporter": "python",
   "pygments_lexer": "ipython3",
   "version": "3.8.8"
  }
 },
 "nbformat": 4,
 "nbformat_minor": 5
}
